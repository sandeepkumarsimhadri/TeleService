{
 "cells": [
  {
   "cell_type": "code",
   "execution_count": 2,
   "id": "f4e7bcb2",
   "metadata": {},
   "outputs": [],
   "source": [
    "import pandas as pd\n",
    "from sklearn.model_selection import train_test_split\n",
    "from sklearn.preprocessing import StandardScaler\n",
    "import warnings\n",
    "warnings.filterwarnings('ignore')\n",
    "from sklearn.linear_model import LogisticRegression\n",
    "from sklearn.tree import DecisionTreeClassifier\n",
    "from sklearn.metrics import confusion_matrix,precision_score,recall_score,f1_score,roc_curve,roc_auc_score\n",
    "import numpy as np\n",
    "import matplotlib.pyplot as plt\n",
    "import seaborn as sns\n",
    "from scipy.stats import chi2_contingency\n",
    "from scipy.stats import f_oneway\n",
    "\n",
    "tc_df=pd.read_csv('Telco-Customer-Churn-Data.csv')"
   ]
  },
  {
   "cell_type": "code",
   "execution_count": 3,
   "id": "c1416c55",
   "metadata": {},
   "outputs": [],
   "source": [
    "tc_df['TotalCharges'].replace(' ',np.NaN,inplace=True)##Replaing spaces(string) into missing value to avoid errors in convert to float\n",
    "tc_df['TotalCharges']=tc_df['TotalCharges'].astype(float)\n",
    "# convert this cat col in data set to cont "
   ]
  },
  {
   "cell_type": "code",
   "execution_count": 4,
   "id": "c20edfbd",
   "metadata": {},
   "outputs": [],
   "source": [
    "tc_df['SeniorCitizen']=tc_df['SeniorCitizen'].astype(object)\n",
    "# convert this con col in data set to catg "
   ]
  },
  {
   "cell_type": "code",
   "execution_count": 5,
   "id": "8bf7a241",
   "metadata": {},
   "outputs": [],
   "source": [
    "corr_cols_df=tc_df.copy()\n",
    "corr_cat_cols=[col for col in corr_cols_df.columns if corr_cols_df[col].dtype=='object'] \n",
    "corr_cont_cols=[col for col in corr_cols_df.columns if corr_cols_df[col].dtype=='int64' or corr_cols_df[col].dtype=='float64']\n",
    "\n",
    "for col in corr_cont_cols:###Relacing MIss values with mean for total column just to avoid nan in finding p_values\n",
    "    corr_cols_df[col].fillna(corr_cols_df[col].mean(),inplace=True)\n",
    "for col in corr_cat_cols:\n",
    "    corr_cols_df[col].fillna(corr_cols_df[col].mode(),inplace=True)\n"
   ]
  },
  {
   "cell_type": "code",
   "execution_count": 19,
   "id": "e2ea371d",
   "metadata": {},
   "outputs": [],
   "source": [
    "def chi_squ(col):\n",
    "    contigency_table=pd.crosstab(corr_cols_df[col],corr_cols_df['Churn'])\n",
    "    res=chi2_contingency(contigency_table)\n",
    "    return res[1],col\n",
    "\n",
    "data=[chi_squ(col) for col in corr_cat_cols]\n",
    "\n",
    "cat_chi_sq_df=pd.DataFrame(data,columns =['p_value', 'col_name'])\n",
    "corr_catg_cols=cat_chi_sq_df[cat_chi_sq_df['p_value'] < 0.05]\n",
    "corr_catg_col_names=list(corr_catg_cols['col_name']) # Correlated catg columns\n"
   ]
  },
  {
   "cell_type": "code",
   "execution_count": 10,
   "id": "954a9994",
   "metadata": {},
   "outputs": [
    {
     "data": {
      "text/plain": [
       "[(7.999057960610892e-205, 'tenure'),\n",
       " (2.7066456068950115e-60, 'MonthlyCharges'),\n",
       " (4.2338363848907657e-64, 'TotalCharges')]"
      ]
     },
     "execution_count": 10,
     "metadata": {},
     "output_type": "execute_result"
    }
   ],
   "source": [
    "catg=corr_cols_df['Churn'].value_counts().index.tolist()\n",
    "\n",
    "def anova(col):### Anova logic\n",
    "    res=f_oneway(*[corr_cols_df[corr_cols_df['Churn']==cat][col]for cat in catg])\n",
    "    return res[1],col\n",
    "\n",
    "cont_data=[anova(col) for col in corr_cont_cols]\n",
    "cont_data\n",
    "\n",
    "#cont_anova_df=pd.DataFrame(cont_data,columns =['value', 'col_name'])\n",
    "#cont_anova_df['value']=cont_anova_df['value'].fillna(0)\n",
    "#cont_anova_df"
   ]
  },
  {
   "cell_type": "code",
   "execution_count": 14,
   "id": "a3dd4359",
   "metadata": {},
   "outputs": [
    {
     "data": {
      "text/html": [
       "<div>\n",
       "<style scoped>\n",
       "    .dataframe tbody tr th:only-of-type {\n",
       "        vertical-align: middle;\n",
       "    }\n",
       "\n",
       "    .dataframe tbody tr th {\n",
       "        vertical-align: top;\n",
       "    }\n",
       "\n",
       "    .dataframe thead th {\n",
       "        text-align: right;\n",
       "    }\n",
       "</style>\n",
       "<table border=\"1\" class=\"dataframe\">\n",
       "  <thead>\n",
       "    <tr style=\"text-align: right;\">\n",
       "      <th></th>\n",
       "      <th>value</th>\n",
       "      <th>col_name</th>\n",
       "    </tr>\n",
       "  </thead>\n",
       "  <tbody>\n",
       "    <tr>\n",
       "      <th>0</th>\n",
       "      <td>7.999058e-205</td>\n",
       "      <td>tenure</td>\n",
       "    </tr>\n",
       "    <tr>\n",
       "      <th>1</th>\n",
       "      <td>2.706646e-60</td>\n",
       "      <td>MonthlyCharges</td>\n",
       "    </tr>\n",
       "    <tr>\n",
       "      <th>2</th>\n",
       "      <td>4.233836e-64</td>\n",
       "      <td>TotalCharges</td>\n",
       "    </tr>\n",
       "  </tbody>\n",
       "</table>\n",
       "</div>"
      ],
      "text/plain": [
       "           value        col_name\n",
       "0  7.999058e-205          tenure\n",
       "1   2.706646e-60  MonthlyCharges\n",
       "2   4.233836e-64    TotalCharges"
      ]
     },
     "execution_count": 14,
     "metadata": {},
     "output_type": "execute_result"
    }
   ],
   "source": [
    "corr_cont_cols=cont_anova_df[cont_anova_df['value'] < 0.05]\n",
    "corr_cont_col_names=list(corr_cont_cols['col_name'])\n",
    "len(corr_cont_col_names)## correlated cont columns\n",
    "corr_cont_cols"
   ]
  },
  {
   "cell_type": "code",
   "execution_count": 15,
   "id": "33f2d2eb",
   "metadata": {},
   "outputs": [],
   "source": [
    "tot_corr_col_names=corr_catg_col_names + corr_cont_col_names"
   ]
  },
  {
   "cell_type": "code",
   "execution_count": 20,
   "id": "99f71e39",
   "metadata": {},
   "outputs": [
    {
     "data": {
      "text/plain": [
       "['customerID', 'gender', 'PhoneService']"
      ]
     },
     "execution_count": 20,
     "metadata": {},
     "output_type": "execute_result"
    }
   ],
   "source": [
    "mainfo_df=tc_df.copy()## Creating copy of DF for deleting unwanted columns\n",
    "mainfo_df.drop(columns=tot_corr_col_names,inplace=True)## Now this DF contains unwanted columns so that it can pass to next step\n",
    "ls_cols_remove=list(mainfo_df.columns)\n",
    "ls_cols_remove"
   ]
  },
  {
   "cell_type": "code",
   "execution_count": 25,
   "id": "8b59bbaa",
   "metadata": {},
   "outputs": [],
   "source": [
    "tc_df.drop(columns=ls_cols_remove,inplace=True)"
   ]
  },
  {
   "cell_type": "code",
   "execution_count": 27,
   "id": "4eaf8b16",
   "metadata": {},
   "outputs": [],
   "source": [
    "y=tc_df['Churn']\n",
    "tc_df.drop(columns=['Churn'],inplace=True)"
   ]
  },
  {
   "cell_type": "code",
   "execution_count": 28,
   "id": "9ed77d87",
   "metadata": {},
   "outputs": [],
   "source": [
    "cat_cols=[col for col in tc_df.columns if tc_df[col].dtype=='object']\n",
    "con_cols=[col for col in tc_df.columns if tc_df[col].dtype=='int64' or tc_df[col].dtype=='float64']\n"
   ]
  },
  {
   "cell_type": "code",
   "execution_count": 29,
   "id": "c5744b08",
   "metadata": {},
   "outputs": [
    {
     "data": {
      "text/plain": [
       "11"
      ]
     },
     "execution_count": 29,
     "metadata": {},
     "output_type": "execute_result"
    }
   ],
   "source": [
    "tc_df['TotalCharges'].isnull().sum()"
   ]
  },
  {
   "cell_type": "code",
   "execution_count": 30,
   "id": "dde44db2",
   "metadata": {},
   "outputs": [
    {
     "data": {
      "text/html": [
       "<div>\n",
       "<style scoped>\n",
       "    .dataframe tbody tr th:only-of-type {\n",
       "        vertical-align: middle;\n",
       "    }\n",
       "\n",
       "    .dataframe tbody tr th {\n",
       "        vertical-align: top;\n",
       "    }\n",
       "\n",
       "    .dataframe thead th {\n",
       "        text-align: right;\n",
       "    }\n",
       "</style>\n",
       "<table border=\"1\" class=\"dataframe\">\n",
       "  <thead>\n",
       "    <tr style=\"text-align: right;\">\n",
       "      <th></th>\n",
       "      <th>col_name</th>\n",
       "      <th>na_cnt</th>\n",
       "      <th>pc_cnt</th>\n",
       "    </tr>\n",
       "  </thead>\n",
       "  <tbody>\n",
       "    <tr>\n",
       "      <th>SeniorCitizen</th>\n",
       "      <td>SeniorCitizen</td>\n",
       "      <td>0</td>\n",
       "      <td>0.000000</td>\n",
       "    </tr>\n",
       "    <tr>\n",
       "      <th>Partner</th>\n",
       "      <td>Partner</td>\n",
       "      <td>0</td>\n",
       "      <td>0.000000</td>\n",
       "    </tr>\n",
       "    <tr>\n",
       "      <th>Dependents</th>\n",
       "      <td>Dependents</td>\n",
       "      <td>0</td>\n",
       "      <td>0.000000</td>\n",
       "    </tr>\n",
       "    <tr>\n",
       "      <th>tenure</th>\n",
       "      <td>tenure</td>\n",
       "      <td>0</td>\n",
       "      <td>0.000000</td>\n",
       "    </tr>\n",
       "    <tr>\n",
       "      <th>MultipleLines</th>\n",
       "      <td>MultipleLines</td>\n",
       "      <td>0</td>\n",
       "      <td>0.000000</td>\n",
       "    </tr>\n",
       "    <tr>\n",
       "      <th>InternetService</th>\n",
       "      <td>InternetService</td>\n",
       "      <td>0</td>\n",
       "      <td>0.000000</td>\n",
       "    </tr>\n",
       "    <tr>\n",
       "      <th>OnlineSecurity</th>\n",
       "      <td>OnlineSecurity</td>\n",
       "      <td>0</td>\n",
       "      <td>0.000000</td>\n",
       "    </tr>\n",
       "    <tr>\n",
       "      <th>OnlineBackup</th>\n",
       "      <td>OnlineBackup</td>\n",
       "      <td>0</td>\n",
       "      <td>0.000000</td>\n",
       "    </tr>\n",
       "    <tr>\n",
       "      <th>DeviceProtection</th>\n",
       "      <td>DeviceProtection</td>\n",
       "      <td>0</td>\n",
       "      <td>0.000000</td>\n",
       "    </tr>\n",
       "    <tr>\n",
       "      <th>TechSupport</th>\n",
       "      <td>TechSupport</td>\n",
       "      <td>0</td>\n",
       "      <td>0.000000</td>\n",
       "    </tr>\n",
       "    <tr>\n",
       "      <th>StreamingTV</th>\n",
       "      <td>StreamingTV</td>\n",
       "      <td>0</td>\n",
       "      <td>0.000000</td>\n",
       "    </tr>\n",
       "    <tr>\n",
       "      <th>StreamingMovies</th>\n",
       "      <td>StreamingMovies</td>\n",
       "      <td>0</td>\n",
       "      <td>0.000000</td>\n",
       "    </tr>\n",
       "    <tr>\n",
       "      <th>Contract</th>\n",
       "      <td>Contract</td>\n",
       "      <td>0</td>\n",
       "      <td>0.000000</td>\n",
       "    </tr>\n",
       "    <tr>\n",
       "      <th>PaperlessBilling</th>\n",
       "      <td>PaperlessBilling</td>\n",
       "      <td>0</td>\n",
       "      <td>0.000000</td>\n",
       "    </tr>\n",
       "    <tr>\n",
       "      <th>PaymentMethod</th>\n",
       "      <td>PaymentMethod</td>\n",
       "      <td>0</td>\n",
       "      <td>0.000000</td>\n",
       "    </tr>\n",
       "    <tr>\n",
       "      <th>MonthlyCharges</th>\n",
       "      <td>MonthlyCharges</td>\n",
       "      <td>0</td>\n",
       "      <td>0.000000</td>\n",
       "    </tr>\n",
       "    <tr>\n",
       "      <th>TotalCharges</th>\n",
       "      <td>TotalCharges</td>\n",
       "      <td>11</td>\n",
       "      <td>0.156183</td>\n",
       "    </tr>\n",
       "  </tbody>\n",
       "</table>\n",
       "</div>"
      ],
      "text/plain": [
       "                          col_name  na_cnt    pc_cnt\n",
       "SeniorCitizen        SeniorCitizen       0  0.000000\n",
       "Partner                    Partner       0  0.000000\n",
       "Dependents              Dependents       0  0.000000\n",
       "tenure                      tenure       0  0.000000\n",
       "MultipleLines        MultipleLines       0  0.000000\n",
       "InternetService    InternetService       0  0.000000\n",
       "OnlineSecurity      OnlineSecurity       0  0.000000\n",
       "OnlineBackup          OnlineBackup       0  0.000000\n",
       "DeviceProtection  DeviceProtection       0  0.000000\n",
       "TechSupport            TechSupport       0  0.000000\n",
       "StreamingTV            StreamingTV       0  0.000000\n",
       "StreamingMovies    StreamingMovies       0  0.000000\n",
       "Contract                  Contract       0  0.000000\n",
       "PaperlessBilling  PaperlessBilling       0  0.000000\n",
       "PaymentMethod        PaymentMethod       0  0.000000\n",
       "MonthlyCharges      MonthlyCharges       0  0.000000\n",
       "TotalCharges          TotalCharges      11  0.156183"
      ]
     },
     "execution_count": 30,
     "metadata": {},
     "output_type": "execute_result"
    }
   ],
   "source": [
    "mainfo_df_val=pd.DataFrame({'col_name':tc_df.columns,'na_cnt':tc_df.isnull().sum(),'pc_cnt':(tc_df.isnull().sum()/tc_df.shape[0])*100})\n",
    "mainfo_df_val"
   ]
  },
  {
   "cell_type": "code",
   "execution_count": 31,
   "id": "d6e9a8c3",
   "metadata": {},
   "outputs": [],
   "source": [
    "x_train,x_test,y_train,y_test=train_test_split(tc_df,y,random_state=52,test_size=0.2)"
   ]
  },
  {
   "cell_type": "code",
   "execution_count": 32,
   "id": "70bfa442",
   "metadata": {},
   "outputs": [],
   "source": [
    "for col in con_cols:\n",
    "    x_train[col].fillna(x_train[col].mean(),inplace=True)\n",
    "    x_test[col].fillna(x_train[col].mean(),inplace=True)"
   ]
  },
  {
   "cell_type": "code",
   "execution_count": 33,
   "id": "60acff43",
   "metadata": {},
   "outputs": [],
   "source": [
    "for col in cat_cols:\n",
    "    x_train[col].fillna(x_train[col].mode()[0],inplace=True)\n",
    "    x_test[col].fillna(x_train[col].mode()[0],inplace=True)"
   ]
  },
  {
   "cell_type": "code",
   "execution_count": 34,
   "id": "377b8f63",
   "metadata": {},
   "outputs": [],
   "source": [
    "scaler=StandardScaler()\n",
    "\n",
    "for col in con_cols:\n",
    "    x_train[col]=scaler.fit_transform(np.array(x_train[col]).reshape(-1,1))\n",
    "    x_test[col]=scaler.transform(np.array(x_test[col]).reshape(-1,1))"
   ]
  },
  {
   "cell_type": "code",
   "execution_count": 35,
   "id": "62fdde8d",
   "metadata": {},
   "outputs": [],
   "source": [
    "cat_encd_train=pd.get_dummies(x_train[cat_cols])\n",
    "cat_encd_test=pd.get_dummies(x_test[cat_cols])"
   ]
  },
  {
   "cell_type": "code",
   "execution_count": 36,
   "id": "28cf7cca",
   "metadata": {},
   "outputs": [],
   "source": [
    "cat_encd_train_final,cat_encd_test_final=cat_encd_train.align(cat_encd_test,join='inner',axis=1)"
   ]
  },
  {
   "cell_type": "code",
   "execution_count": 37,
   "id": "7ca715f2",
   "metadata": {},
   "outputs": [],
   "source": [
    "x_train_final=pd.concat([x_train[con_cols],cat_encd_train_final],axis=1)"
   ]
  },
  {
   "cell_type": "code",
   "execution_count": 38,
   "id": "f7936202",
   "metadata": {},
   "outputs": [],
   "source": [
    "x_test_final=pd.concat([x_test[con_cols],cat_encd_test_final],axis=1)"
   ]
  },
  {
   "cell_type": "code",
   "execution_count": 39,
   "id": "22f3b3fe",
   "metadata": {},
   "outputs": [
    {
     "data": {
      "text/plain": [
       "((1409, 41), (5634, 41))"
      ]
     },
     "execution_count": 39,
     "metadata": {},
     "output_type": "execute_result"
    }
   ],
   "source": [
    "x_test_final.shape,x_train_final.shape"
   ]
  },
  {
   "cell_type": "code",
   "execution_count": 40,
   "id": "e6af8fb7",
   "metadata": {},
   "outputs": [
    {
     "data": {
      "text/plain": [
       "LogisticRegression()"
      ]
     },
     "execution_count": 40,
     "metadata": {},
     "output_type": "execute_result"
    }
   ],
   "source": [
    "logreg=LogisticRegression()\n",
    "logreg.fit(x_train_final,y_train)"
   ]
  },
  {
   "cell_type": "code",
   "execution_count": 41,
   "id": "47a33d47",
   "metadata": {},
   "outputs": [],
   "source": [
    "y_test_pred=logreg.predict(x_test_final)"
   ]
  },
  {
   "cell_type": "code",
   "execution_count": 42,
   "id": "6e30f764",
   "metadata": {},
   "outputs": [
    {
     "data": {
      "text/plain": [
       "array([[914, 113],\n",
       "       [153, 229]], dtype=int64)"
      ]
     },
     "execution_count": 42,
     "metadata": {},
     "output_type": "execute_result"
    }
   ],
   "source": [
    "confusion_matrix(y_test,y_test_pred)"
   ]
  },
  {
   "cell_type": "code",
   "execution_count": 43,
   "id": "b1899f3b",
   "metadata": {},
   "outputs": [
    {
     "data": {
      "text/plain": [
       "0.6695906432748538"
      ]
     },
     "execution_count": 43,
     "metadata": {},
     "output_type": "execute_result"
    }
   ],
   "source": [
    "precision_score(y_test,y_test_pred,pos_label='Yes')"
   ]
  },
  {
   "cell_type": "code",
   "execution_count": 44,
   "id": "96c2a925",
   "metadata": {},
   "outputs": [
    {
     "data": {
      "text/plain": [
       "0.599476439790576"
      ]
     },
     "execution_count": 44,
     "metadata": {},
     "output_type": "execute_result"
    }
   ],
   "source": [
    "recall_score(y_test,y_test_pred,pos_label='Yes')"
   ]
  },
  {
   "cell_type": "code",
   "execution_count": 45,
   "id": "1d6fac15",
   "metadata": {},
   "outputs": [
    {
     "data": {
      "text/plain": [
       "0.6325966850828729"
      ]
     },
     "execution_count": 45,
     "metadata": {},
     "output_type": "execute_result"
    }
   ],
   "source": [
    "f1_score(y_test,y_test_pred,pos_label='Yes')"
   ]
  },
  {
   "cell_type": "code",
   "execution_count": 46,
   "id": "70959c3c",
   "metadata": {},
   "outputs": [
    {
     "data": {
      "text/plain": [
       "Text(0.5, 1.0, 'AUC Curve')"
      ]
     },
     "execution_count": 46,
     "metadata": {},
     "output_type": "execute_result"
    },
    {
     "data": {
      "image/png": "[encoded data removed]",
      "text/plain": [
       "<Figure size 432x288 with 1 Axes>"
      ]
     },
     "metadata": {
      "needs_background": "light"
     },
     "output_type": "display_data"
    }
   ],
   "source": [
    "pos_probs=logreg.predict_proba(x_test_final)[::,1]\n",
    "fpr,tpr,thresold=roc_curve(y_test,pos_probs,pos_label='Yes')\n",
    "plt.plot(fpr,tpr)\n",
    "plt.xlabel('False Postive Rate')\n",
    "plt.ylabel('True Postive Rate')\n",
    "plt.title('AUC Curve')"
   ]
  },
  {
   "cell_type": "code",
   "execution_count": 47,
   "id": "463afd99",
   "metadata": {},
   "outputs": [
    {
     "data": {
      "text/plain": [
       "0.8488226267734519"
      ]
     },
     "execution_count": 47,
     "metadata": {},
     "output_type": "execute_result"
    }
   ],
   "source": [
    "roc_auc_score(y_test,pos_probs)"
   ]
  }
 ],
 "metadata": {
  "kernelspec": {
   "display_name": "Python 3",
   "language": "python",
   "name": "python3"
  },
  "language_info": {
   "codemirror_mode": {
    "name": "ipython",
    "version": 3
   },
   "file_extension": ".py",
   "mimetype": "text/x-python",
   "name": "python",
   "nbconvert_exporter": "python",
   "pygments_lexer": "ipython3",
   "version": "3.8.8"
  }
 },
 "nbformat": 4,
 "nbformat_minor": 5
}
