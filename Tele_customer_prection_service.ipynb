{
 "cells": [
  {
   "cell_type": "code",
   "execution_count": 108,
   "id": "a2ea4a5f",
   "metadata": {},
   "outputs": [],
   "source": [
    "import pandas as pd\n",
    "from sklearn.model_selection import train_test_split\n",
    "from sklearn.preprocessing import StandardScaler\n",
    "import warnings\n",
    "warnings.filterwarnings('ignore')\n",
    "from sklearn.linear_model import LogisticRegression\n",
    "from sklearn.tree import DecisionTreeClassifier\n",
    "from sklearn.metrics import confusion_matrix,precision_score,recall_score,f1_score,roc_curve,roc_auc_score\n",
    "import numpy as np\n",
    "import matplotlib.pyplot as plt\n",
    "\n",
    "tc_df=pd.read_csv('Telco-Customer-Churn-Data.csv')"
   ]
  },
  {
   "cell_type": "code",
   "execution_count": 21,
   "id": "8d1006eb",
   "metadata": {},
   "outputs": [
    {
     "data": {
      "text/plain": [
       "Index(['customerID', 'gender', 'SeniorCitizen', 'Partner', 'Dependents',\n",
       "       'tenure', 'PhoneService', 'MultipleLines', 'InternetService',\n",
       "       'OnlineSecurity', 'OnlineBackup', 'DeviceProtection', 'TechSupport',\n",
       "       'StreamingTV', 'StreamingMovies', 'Contract', 'PaperlessBilling',\n",
       "       'PaymentMethod', 'MonthlyCharges', 'TotalCharges', 'Churn'],\n",
       "      dtype='object')"
      ]
     },
     "execution_count": 21,
     "metadata": {},
     "output_type": "execute_result"
    }
   ],
   "source": [
    "tc_df.columns"
   ]
  },
  {
   "cell_type": "code",
   "execution_count": 44,
   "id": "6a1dfee6",
   "metadata": {},
   "outputs": [],
   "source": [
    "cat_cols=[col for col in tc_df.columns if tc_df[col].dtype=='object']"
   ]
  },
  {
   "cell_type": "code",
   "execution_count": 45,
   "id": "7a41aa49",
   "metadata": {},
   "outputs": [],
   "source": [
    "con_cols=[col for col in tc_df.columns if tc_df[col].dtype=='int64' or tc_df[col].dtype=='float64']"
   ]
  },
  {
   "cell_type": "code",
   "execution_count": 23,
   "id": "129b136d",
   "metadata": {},
   "outputs": [],
   "source": [
    "y=tc_df['Churn']\n",
    "tc_df.drop(columns='Churn',inplace=True)"
   ]
  },
  {
   "cell_type": "code",
   "execution_count": 24,
   "id": "95867545",
   "metadata": {},
   "outputs": [],
   "source": [
    "mainfo_df=pd.DataFrame({'col_name':tc_df.columns,'na_cnt':tc_df.isnull().sum(),'pc_cnt':(tc_df.isnull().sum()/tc_df.shape[0])*100})\n"
   ]
  },
  {
   "cell_type": "code",
   "execution_count": 43,
   "id": "e7305dc3",
   "metadata": {},
   "outputs": [],
   "source": [
    "x_train,x_test,y_train,y_test=train_test_split(tc_df,y,random_state=52,test_size=0.2)\n"
   ]
  },
  {
   "cell_type": "code",
   "execution_count": 48,
   "id": "f6a6b1c2",
   "metadata": {},
   "outputs": [],
   "source": [
    "for col in con_cols:\n",
    "    x_train[col].fillna(x_train[col].mean(),inplace=True)\n",
    "    x_test[col].fillna(x_train[col].mean(),inplace=True)"
   ]
  },
  {
   "cell_type": "code",
   "execution_count": 51,
   "id": "21a8990f",
   "metadata": {},
   "outputs": [],
   "source": [
    "for col in cat_cols:\n",
    "    x_train[col].fillna(x_train[col].mode(),inplace=True)\n",
    "    x_test[col].fillna(x_train[col].mode(),inplace=True)"
   ]
  },
  {
   "cell_type": "code",
   "execution_count": 56,
   "id": "a7e0c4f6",
   "metadata": {},
   "outputs": [],
   "source": [
    "scaler=StandardScaler()\n",
    "\n",
    "for col in con_cols:\n",
    "    x_train[col]=scaler.fit_transform(np.array(x_train[col]).reshape(-1,1))\n",
    "    x_test[col]=scaler.transform(np.array(x_test[col]).reshape(-1,1))"
   ]
  },
  {
   "cell_type": "code",
   "execution_count": 60,
   "id": "57a7f77c",
   "metadata": {},
   "outputs": [],
   "source": [
    "cat_encd_train=pd.get_dummies(x_train[cat_cols])\n",
    "cat_encd_test=pd.get_dummies(x_test[cat_cols])"
   ]
  },
  {
   "cell_type": "code",
   "execution_count": 74,
   "id": "28980204",
   "metadata": {},
   "outputs": [
    {
     "data": {
      "text/plain": [
       "((1409, 2831), (5634, 10971))"
      ]
     },
     "execution_count": 74,
     "metadata": {},
     "output_type": "execute_result"
    }
   ],
   "source": [
    "x_test_final.shape,x_train_final.shape"
   ]
  },
  {
   "cell_type": "code",
   "execution_count": 78,
   "id": "5b6b293e",
   "metadata": {},
   "outputs": [],
   "source": [
    "cat_encd_train_final,cat_encd_test_final=cat_encd_train.align(cat_encd_test,join='inner',axis=1)"
   ]
  },
  {
   "cell_type": "code",
   "execution_count": 84,
   "id": "10d51630",
   "metadata": {},
   "outputs": [],
   "source": [
    "x_train_final=pd.concat([x_train[con_cols],cat_encd_train_final],axis=1)"
   ]
  },
  {
   "cell_type": "code",
   "execution_count": 85,
   "id": "d1df4d9b",
   "metadata": {},
   "outputs": [],
   "source": [
    "x_test_final=pd.concat([x_test[con_cols],cat_encd_test_final],axis=1)"
   ]
  },
  {
   "cell_type": "code",
   "execution_count": 86,
   "id": "82266349",
   "metadata": {},
   "outputs": [
    {
     "data": {
      "text/plain": [
       "LogisticRegression()"
      ]
     },
     "execution_count": 86,
     "metadata": {},
     "output_type": "execute_result"
    }
   ],
   "source": [
    "logreg=LogisticRegression()\n",
    "logreg.fit(x_train_final,y_train)"
   ]
  },
  {
   "cell_type": "code",
   "execution_count": 107,
   "id": "094dc086",
   "metadata": {},
   "outputs": [],
   "source": [
    "y_test_pred=logreg.predict(x_test_final)\n"
   ]
  },
  {
   "cell_type": "code",
   "execution_count": 90,
   "id": "3dab036a",
   "metadata": {},
   "outputs": [
    {
     "data": {
      "text/plain": [
       "array([[916, 111],\n",
       "       [150, 232]], dtype=int64)"
      ]
     },
     "execution_count": 90,
     "metadata": {},
     "output_type": "execute_result"
    }
   ],
   "source": [
    "confusion_matrix(y_test,y_test_pred)"
   ]
  },
  {
   "cell_type": "code",
   "execution_count": 93,
   "id": "299e85f2",
   "metadata": {},
   "outputs": [
    {
     "data": {
      "text/plain": [
       "0.6763848396501457"
      ]
     },
     "execution_count": 93,
     "metadata": {},
     "output_type": "execute_result"
    }
   ],
   "source": [
    "precision_score(y_test,y_test_pred,pos_label='Yes')"
   ]
  },
  {
   "cell_type": "code",
   "execution_count": 95,
   "id": "7d153e4d",
   "metadata": {},
   "outputs": [
    {
     "data": {
      "text/plain": [
       "0.6073298429319371"
      ]
     },
     "execution_count": 95,
     "metadata": {},
     "output_type": "execute_result"
    }
   ],
   "source": [
    "recall_score(y_test,y_test_pred,pos_label='Yes')"
   ]
  },
  {
   "cell_type": "code",
   "execution_count": 96,
   "id": "ff3a6dae",
   "metadata": {},
   "outputs": [
    {
     "data": {
      "text/plain": [
       "0.6399999999999999"
      ]
     },
     "execution_count": 96,
     "metadata": {},
     "output_type": "execute_result"
    }
   ],
   "source": [
    "f1_score(y_test,y_test_pred,pos_label='Yes')"
   ]
  },
  {
   "cell_type": "code",
   "execution_count": 105,
   "id": "6319fec0",
   "metadata": {},
   "outputs": [
    {
     "data": {
      "text/plain": [
       "Text(0.5, 1.0, 'AUC Curve')"
      ]
     },
     "execution_count": 105,
     "metadata": {},
     "output_type": "execute_result"
    },
    {
     "data": {
      "image/png": "[encoded data removed]",
      "text/plain": [
       "<Figure size 432x288 with 1 Axes>"
      ]
     },
     "metadata": {
      "needs_background": "light"
     },
     "output_type": "display_data"
    }
   ],
   "source": [
    "pos_probs=logreg.predict_proba(x_test_final)[::,1]\n",
    "fpr,tpr,thresold=roc_curve(y_test,pos_probs,pos_label='Yes')\n",
    "plt.plot(fpr,tpr)\n",
    "plt.xlabel('False Postive Rate')\n",
    "plt.ylabel('True Postive Rate')\n",
    "plt.title('AUC Curve')"
   ]
  },
  {
   "cell_type": "code",
   "execution_count": 103,
   "id": "aa78c7b1",
   "metadata": {},
   "outputs": [
    {
     "data": {
      "text/plain": [
       "0.8451240587896429"
      ]
     },
     "execution_count": 103,
     "metadata": {},
     "output_type": "execute_result"
    }
   ],
   "source": [
    "roc_auc_score(y_test,pos_probs)"
   ]
  },
  {
   "cell_type": "code",
   "execution_count": 110,
   "id": "f427e7d0",
   "metadata": {},
   "outputs": [
    {
     "data": {
      "text/plain": [
       "DecisionTreeClassifier()"
      ]
     },
     "execution_count": 110,
     "metadata": {},
     "output_type": "execute_result"
    }
   ],
   "source": [
    "dtree=DecisionTreeClassifier()\n",
    "dtree.fit(x_train_final,y_train)"
   ]
  },
  {
   "cell_type": "code",
   "execution_count": 115,
   "id": "87dceabb",
   "metadata": {},
   "outputs": [
    {
     "data": {
      "text/plain": [
       "array(['No', 'No', 'No', ..., 'Yes', 'No', 'Yes'], dtype=object)"
      ]
     },
     "execution_count": 115,
     "metadata": {},
     "output_type": "execute_result"
    }
   ],
   "source": [
    "y_dtree_test_pred=dtree.predict(x_test_final)\n",
    "y_dtree_test_pred"
   ]
  },
  {
   "cell_type": "code",
   "execution_count": 116,
   "id": "f0ed54bf",
   "metadata": {},
   "outputs": [
    {
     "data": {
      "text/plain": [
       "array([[849, 178],\n",
       "       [194, 188]], dtype=int64)"
      ]
     },
     "execution_count": 116,
     "metadata": {},
     "output_type": "execute_result"
    }
   ],
   "source": [
    "confusion_matrix(y_test,y_dtree_test_pred)"
   ]
  },
  {
   "cell_type": "code",
   "execution_count": 120,
   "id": "fea6470d",
   "metadata": {},
   "outputs": [
    {
     "data": {
      "text/plain": [
       "0.5136612021857924"
      ]
     },
     "execution_count": 120,
     "metadata": {},
     "output_type": "execute_result"
    }
   ],
   "source": [
    "precision_score(y_test,y_dtree_test_pred,pos_label='Yes')"
   ]
  },
  {
   "cell_type": "code",
   "execution_count": 121,
   "id": "b495b382",
   "metadata": {},
   "outputs": [
    {
     "data": {
      "text/plain": [
       "0.49214659685863876"
      ]
     },
     "execution_count": 121,
     "metadata": {},
     "output_type": "execute_result"
    }
   ],
   "source": [
    "recall_score(y_test,y_dtree_test_pred,pos_label='Yes')"
   ]
  },
  {
   "cell_type": "code",
   "execution_count": 122,
   "id": "a7dcc87a",
   "metadata": {},
   "outputs": [
    {
     "data": {
      "text/plain": [
       "0.5026737967914439"
      ]
     },
     "execution_count": 122,
     "metadata": {},
     "output_type": "execute_result"
    }
   ],
   "source": [
    "f1_score(y_test,y_dtree_test_pred,pos_label='Yes')"
   ]
  },
  {
   "cell_type": "code",
   "execution_count": 123,
   "id": "bb9ac18f",
   "metadata": {},
   "outputs": [
    {
     "data": {
      "text/plain": [
       "Text(0.5, 1.0, 'AUC Curve')"
      ]
     },
     "execution_count": 123,
     "metadata": {},
     "output_type": "execute_result"
    },
    {
     "data": {
      "image/png": "[encoded data removed]",
      "text/plain": [
       "<Figure size 432x288 with 1 Axes>"
      ]
     },
     "metadata": {
      "needs_background": "light"
     },
     "output_type": "display_data"
    }
   ],
   "source": [
    "dtree_pos_probs=dtree.predict_proba(x_test_final)[::,1]\n",
    "dtree_fpr,dtree_tpr,dtree_thresold=roc_curve(y_test,dtree_pos_probs,pos_label='Yes')\n",
    "plt.plot(dtree_fpr,dtree_tpr)\n",
    "plt.xlabel('False Postive Rate')\n",
    "plt.ylabel('True Postive Rate')\n",
    "plt.title('AUC Curve')"
   ]
  },
  {
   "cell_type": "code",
   "execution_count": 124,
   "id": "37277b2f",
   "metadata": {},
   "outputs": [
    {
     "data": {
      "text/plain": [
       "0.6621685690543799"
      ]
     },
     "execution_count": 124,
     "metadata": {},
     "output_type": "execute_result"
    }
   ],
   "source": [
    "roc_auc_score(y_test,dtree_pos_probs)"
   ]
  }
 ],
 "metadata": {
  "kernelspec": {
   "display_name": "Python 3",
   "language": "python",
   "name": "python3"
  },
  "language_info": {
   "codemirror_mode": {
    "name": "ipython",
    "version": 3
   },
   "file_extension": ".py",
   "mimetype": "text/x-python",
   "name": "python",
   "nbconvert_exporter": "python",
   "pygments_lexer": "ipython3",
   "version": "3.8.8"
  }
 },
 "nbformat": 4,
 "nbformat_minor": 5
}
